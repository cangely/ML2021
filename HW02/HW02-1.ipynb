{
  "nbformat": 4,
  "nbformat_minor": 0,
  "metadata": {
    "accelerator": "GPU",
    "colab": {
      "name": "SHARE MLSpring2021 - HW2-1.ipynb",
      "provenance": [],
      "include_colab_link": true
    },
    "kernelspec": {
      "display_name": "Python 3",
      "name": "python3"
    }
  },
  "cells": [
    {
      "cell_type": "markdown",
      "metadata": {
        "id": "view-in-github",
        "colab_type": "text"
      },
      "source": [
        "<a href=\"https://colab.research.google.com/github/cangely/ML2021/blob/main/HW02/HW02-1.ipynb\" target=\"_parent\"><img src=\"https://colab.research.google.com/assets/colab-badge.svg\" alt=\"Open In Colab\"/></a>"
      ]
    },
    {
      "cell_type": "markdown",
      "metadata": {
        "id": "OYlaRwNu7ojq"
      },
      "source": [
        "# **Homework 2-1 Phoneme Classification**\n",
        "\n",
        "* Slides: https://speech.ee.ntu.edu.tw/~hylee/ml/ml2021-course-data/hw/HW02/HW02.pdf\n",
        "* Video (Chinese): https://youtu.be/PdjXnQbu2zo\n",
        "* Video (English): https://youtu.be/ESRr-VCykBs\n"
      ]
    },
    {
      "cell_type": "markdown",
      "metadata": {
        "id": "emUd7uS7crTz"
      },
      "source": [
        "## The DARPA TIMIT Acoustic-Phonetic Continuous Speech Corpus (TIMIT)\n",
        "The TIMIT corpus of reading speech has been designed to provide speech data for the acquisition of acoustic-phonetic knowledge and for the development and evaluation of automatic speech recognition systems.\n",
        "\n",
        "This homework is a multiclass classification task,\n",
        "we are going to train a deep neural network classifier to predict the phonemes for each frame from the speech corpus TIMIT.\n",
        "\n",
        "link: https://academictorrents.com/details/34e2b78745138186976cbc27939b1b34d18bd5b3"
      ]
    },
    {
      "cell_type": "markdown",
      "metadata": {
        "id": "KVUGfWTo7_Oj"
      },
      "source": [
        "## Download Data\n",
        "Download data from google drive, then unzip it.\n",
        "\n",
        "You should have `timit_11/train_11.npy`, `timit_11/train_label_11.npy`, and `timit_11/test_11.npy` after running this block.<br><br>\n",
        "`timit_11/`\n",
        "- `train_11.npy`: training data<br>\n",
        "- `train_label_11.npy`: training label<br>\n",
        "- `test_11.npy`:  testing data<br><br>\n",
        "\n",
        "**notes: if the google drive link is dead, you can download the data directly from Kaggle and upload it to the workspace**\n",
        "\n",
        "\n"
      ]
    },
    {
      "cell_type": "code",
      "metadata": {
        "colab": {
          "base_uri": "https://localhost:8080/"
        },
        "id": "OzkiMEcC3Foq",
        "outputId": "1110f8f3-26ef-4b05-83d3-1536cc697954"
      },
      "source": [
        "!gdown --id '1HPkcmQmFGu-3OknddKIa5dNDsR05lIQR' --output data.zip\n",
        "!unzip data.zip\n",
        "!ls"
      ],
      "execution_count": 1,
      "outputs": [
        {
          "output_type": "stream",
          "name": "stdout",
          "text": [
            "/usr/local/lib/python3.12/dist-packages/gdown/__main__.py:140: FutureWarning: Option `--id` was deprecated in version 4.3.1 and will be removed in 5.0. You don't need to pass it anymore to use a file ID.\n",
            "  warnings.warn(\n",
            "Downloading...\n",
            "From (original): https://drive.google.com/uc?id=1HPkcmQmFGu-3OknddKIa5dNDsR05lIQR\n",
            "From (redirected): https://drive.google.com/uc?id=1HPkcmQmFGu-3OknddKIa5dNDsR05lIQR&confirm=t&uuid=df7fe0a0-09e3-4795-a1d8-0f20f3b6f35c\n",
            "To: /content/data.zip\n",
            "100% 372M/372M [00:07<00:00, 48.7MB/s]\n",
            "Archive:  data.zip\n",
            "   creating: timit_11/\n",
            "  inflating: timit_11/train_11.npy   \n",
            "  inflating: timit_11/test_11.npy    \n",
            "  inflating: timit_11/train_label_11.npy  \n",
            "data.zip  sample_data  timit_11\n"
          ]
        }
      ]
    },
    {
      "cell_type": "markdown",
      "metadata": {
        "id": "_L_4anls8Drv"
      },
      "source": [
        "## Preparing Data\n",
        "Load the training and testing data from the `.npy` file (NumPy array)."
      ]
    },
    {
      "cell_type": "code",
      "metadata": {
        "colab": {
          "base_uri": "https://localhost:8080/"
        },
        "id": "IJjLT8em-y9G",
        "outputId": "3f7ccd75-530f-48df-b111-e20887145d68"
      },
      "source": [
        "import numpy as np\n",
        "\n",
        "print('Loading data ...')\n",
        "\n",
        "data_root='./timit_11/'\n",
        "train = np.load(data_root + 'train_11.npy')\n",
        "train_label = np.load(data_root + 'train_label_11.npy')\n",
        "test = np.load(data_root + 'test_11.npy')\n",
        "\n",
        "print('Size of training data: {}'.format(train.shape))\n",
        "print('Size of testing data: {}'.format(test.shape))"
      ],
      "execution_count": 2,
      "outputs": [
        {
          "output_type": "stream",
          "name": "stdout",
          "text": [
            "Loading data ...\n",
            "Size of training data: (1229932, 429)\n",
            "Size of testing data: (451552, 429)\n"
          ]
        }
      ]
    },
    {
      "cell_type": "markdown",
      "metadata": {
        "id": "us5XW_x6udZQ"
      },
      "source": [
        "## Create Dataset"
      ]
    },
    {
      "cell_type": "code",
      "metadata": {
        "id": "Fjf5EcmJtf4e"
      },
      "source": [
        "import torch\n",
        "from torch.utils.data import Dataset\n",
        "\n",
        "class TIMITDataset(Dataset):\n",
        "    def __init__(self, X, y=None):\n",
        "        self.data = torch.from_numpy(X).float()\n",
        "        if y is not None:\n",
        "            y = y.astype(int)\n",
        "            self.label = torch.LongTensor(y)\n",
        "        else:\n",
        "            self.label = None\n",
        "\n",
        "    def __getitem__(self, idx):\n",
        "        if self.label is not None:\n",
        "            return self.data[idx], self.label[idx]\n",
        "        else:\n",
        "            return self.data[idx]\n",
        "\n",
        "    def __len__(self):\n",
        "        return len(self.data)\n"
      ],
      "execution_count": 3,
      "outputs": []
    },
    {
      "cell_type": "markdown",
      "metadata": {
        "id": "otIC6WhGeh9v"
      },
      "source": [
        "Split the labeled data into a training set and a validation set, you can modify the variable `VAL_RATIO` to change the ratio of validation data."
      ]
    },
    {
      "cell_type": "code",
      "metadata": {
        "colab": {
          "base_uri": "https://localhost:8080/"
        },
        "id": "sYqi_lAuvC59",
        "outputId": "9944d5cf-5af7-4676-90d7-56fafec2505b"
      },
      "source": [
        "VAL_RATIO = 0.2\n",
        "\n",
        "percent = int(train.shape[0] * (1 - VAL_RATIO))\n",
        "train_x, train_y, val_x, val_y = train[:percent], train_label[:percent], train[percent:], train_label[percent:]\n",
        "print('Size of training set: {}'.format(train_x.shape))\n",
        "print('Size of validation set: {}'.format(val_x.shape))"
      ],
      "execution_count": 4,
      "outputs": [
        {
          "output_type": "stream",
          "name": "stdout",
          "text": [
            "Size of training set: (983945, 429)\n",
            "Size of validation set: (245987, 429)\n"
          ]
        }
      ]
    },
    {
      "cell_type": "markdown",
      "metadata": {
        "id": "nbCfclUIgMTX"
      },
      "source": [
        "Create a data loader from the dataset, feel free to tweak the variable `BATCH_SIZE` here."
      ]
    },
    {
      "cell_type": "code",
      "metadata": {
        "id": "RUCbQvqJurYc"
      },
      "source": [
        "BATCH_SIZE = 64\n",
        "\n",
        "from torch.utils.data import DataLoader\n",
        "\n",
        "train_set = TIMITDataset(train_x, train_y)\n",
        "val_set = TIMITDataset(val_x, val_y)\n",
        "train_loader = DataLoader(train_set, batch_size=BATCH_SIZE, shuffle=True) #only shuffle the training data\n",
        "val_loader = DataLoader(val_set, batch_size=BATCH_SIZE, shuffle=False)"
      ],
      "execution_count": 5,
      "outputs": []
    },
    {
      "cell_type": "markdown",
      "metadata": {
        "id": "_SY7X0lUgb50"
      },
      "source": [
        "Cleanup the unneeded variables to save memory.<br>\n",
        "\n",
        "**notes: if you need to use these variables later, then you may remove this block or clean up unneeded variables later<br>the data size is quite huge, so be aware of memory usage in colab**"
      ]
    },
    {
      "cell_type": "code",
      "metadata": {
        "colab": {
          "base_uri": "https://localhost:8080/"
        },
        "id": "y8rzkGraeYeN",
        "outputId": "ed1c46d8-ad51-4df0-85a1-3d1b46c965b6"
      },
      "source": [
        "import gc\n",
        "\n",
        "del train, train_label, train_x, train_y, val_x, val_y\n",
        "gc.collect()"
      ],
      "execution_count": 6,
      "outputs": [
        {
          "output_type": "execute_result",
          "data": {
            "text/plain": [
              "30"
            ]
          },
          "metadata": {},
          "execution_count": 6
        }
      ]
    },
    {
      "cell_type": "markdown",
      "metadata": {
        "id": "IRqKNvNZwe3V"
      },
      "source": [
        "## Create Model"
      ]
    },
    {
      "cell_type": "markdown",
      "metadata": {
        "id": "FYr1ng5fh9pA"
      },
      "source": [
        "Define model architecture, you are encouraged to change and experiment with the model architecture."
      ]
    },
    {
      "cell_type": "code",
      "metadata": {
        "id": "lbZrwT6Ny0XL"
      },
      "source": [
        "import torch\n",
        "import torch.nn as nn\n",
        "\n",
        "class Classifier(nn.Module):\n",
        "    def __init__(self):\n",
        "        super(Classifier, self).__init__()\n",
        "        self.layer1 = nn.Linear(429, 2048)\n",
        "        self.bn1 = nn.BatchNorm1d(2048)\n",
        "\n",
        "        self.layer2 = nn.Linear(2048, 1024)\n",
        "        self.bn2 = nn.BatchNorm1d(1024)\n",
        "\n",
        "        self.layer3 = nn.Linear(1024, 512)\n",
        "        self.bn3 = nn.BatchNorm1d(512)\n",
        "\n",
        "        self.layer4 = nn.Linear(512, 128)\n",
        "        self.bn4 = nn.BatchNorm1d(128)\n",
        "\n",
        "        self.out = nn.Linear(128, 39)\n",
        "\n",
        "        self.dropout = nn.Dropout(0.25)\n",
        "        self.act_fn = nn.ReLU()\n",
        "\n",
        "    def forward(self, x):\n",
        "        x = self.layer1(x)\n",
        "        x = self.bn1(x)\n",
        "        x = self.act_fn(x)\n",
        "        x = self.dropout(x)\n",
        "\n",
        "\n",
        "        x = self.layer2(x)\n",
        "        x = self.bn2(x)\n",
        "        x = self.act_fn(x)\n",
        "        x = self.dropout(x)\n",
        "\n",
        "\n",
        "        x = self.layer3(x)\n",
        "        x = self.bn3(x)\n",
        "        x = self.act_fn(x)\n",
        "        x = self.dropout(x)\n",
        "\n",
        "        x = self.layer4(x)\n",
        "        x = self.bn4(x)\n",
        "        x = self.act_fn(x)\n",
        "        x = self.dropout(x)\n",
        "\n",
        "        x = self.out(x)\n",
        "\n",
        "        return x"
      ],
      "execution_count": 17,
      "outputs": []
    },
    {
      "cell_type": "markdown",
      "metadata": {
        "id": "VRYciXZvPbYh"
      },
      "source": [
        "## Training"
      ]
    },
    {
      "cell_type": "code",
      "metadata": {
        "id": "y114Vmm3Ja6o"
      },
      "source": [
        "#check device\n",
        "def get_device():\n",
        "  return 'cuda' if torch.cuda.is_available() else 'cpu'"
      ],
      "execution_count": 18,
      "outputs": []
    },
    {
      "cell_type": "markdown",
      "metadata": {
        "id": "sEX-yjHjhGuH"
      },
      "source": [
        "Fix random seeds for reproducibility."
      ]
    },
    {
      "cell_type": "code",
      "metadata": {
        "id": "88xPiUnm0tAd"
      },
      "source": [
        "# fix random seed\n",
        "def same_seeds(seed):\n",
        "    torch.manual_seed(seed)\n",
        "    if torch.cuda.is_available():\n",
        "        torch.cuda.manual_seed(seed)\n",
        "        torch.cuda.manual_seed_all(seed)\n",
        "    np.random.seed(seed)\n",
        "    torch.backends.cudnn.benchmark = False\n",
        "    torch.backends.cudnn.deterministic = True"
      ],
      "execution_count": 19,
      "outputs": []
    },
    {
      "cell_type": "markdown",
      "metadata": {
        "id": "KbBcBXkSp6RA"
      },
      "source": [
        "Feel free to change the training parameters here."
      ]
    },
    {
      "cell_type": "code",
      "metadata": {
        "id": "QTp3ZXg1yO9Y",
        "outputId": "bd1f903b-ccc6-4efe-ac22-04860b69acfc",
        "colab": {
          "base_uri": "https://localhost:8080/"
        }
      },
      "source": [
        "# fix random seed for reproducibility\n",
        "same_seeds(0)\n",
        "\n",
        "# get device\n",
        "device = get_device()\n",
        "print(f'DEVICE: {device}')\n",
        "\n",
        "# training parameters\n",
        "num_epoch = 30               # number of training epoch\n",
        "learning_rate = 0.00005       # learning rate\n",
        "weight_decay = 0.0001\n",
        "\n",
        "# the path where checkpoint saved\n",
        "model_path = './model.ckpt'\n",
        "\n",
        "# create model, define a loss function, and optimizer\n",
        "model = Classifier().to(device)\n",
        "criterion = nn.CrossEntropyLoss()\n",
        "optimizer = torch.optim.Adam(model.parameters(), lr=learning_rate)\n",
        "\n",
        "# print model结构和参数设置\n",
        "print(model)\n",
        "print(f'Learning rate: {learning_rate}, batch size: {BATCH_SIZE}, num_epoch: {num_epoch}, optimizer: Adam')"
      ],
      "execution_count": 20,
      "outputs": [
        {
          "output_type": "stream",
          "name": "stdout",
          "text": [
            "DEVICE: cuda\n",
            "Classifier(\n",
            "  (layer1): Linear(in_features=429, out_features=2048, bias=True)\n",
            "  (bn1): BatchNorm1d(2048, eps=1e-05, momentum=0.1, affine=True, track_running_stats=True)\n",
            "  (layer2): Linear(in_features=2048, out_features=1024, bias=True)\n",
            "  (bn2): BatchNorm1d(1024, eps=1e-05, momentum=0.1, affine=True, track_running_stats=True)\n",
            "  (layer3): Linear(in_features=1024, out_features=512, bias=True)\n",
            "  (bn3): BatchNorm1d(512, eps=1e-05, momentum=0.1, affine=True, track_running_stats=True)\n",
            "  (layer4): Linear(in_features=512, out_features=128, bias=True)\n",
            "  (bn4): BatchNorm1d(128, eps=1e-05, momentum=0.1, affine=True, track_running_stats=True)\n",
            "  (out): Linear(in_features=128, out_features=39, bias=True)\n",
            "  (dropout): Dropout(p=0.25, inplace=False)\n",
            "  (act_fn): ReLU()\n",
            ")\n",
            "Learning rate: 5e-05, batch size: 64, num_epoch: 30, optimizer: Adam\n"
          ]
        }
      ]
    },
    {
      "cell_type": "code",
      "metadata": {
        "id": "CdMWsBs7zzNs",
        "colab": {
          "base_uri": "https://localhost:8080/",
          "height": 1000
        },
        "outputId": "318e52e4-43e2-4bc4-ee6f-bdd5a1f5b7f8"
      },
      "source": [
        "# start training\n",
        "import time\n",
        "\n",
        "start_time = time.time()  # 记录脚本开始时间\n",
        "best_acc = 0.0\n",
        "patience = 5  # 可调：容忍多少个 epoch 不提升\n",
        "epochs_no_improve = 0  # 计数器\n",
        "early_stop = False  # 早停标志\n",
        "# 打印开始训练的日志, 包括当前时间\n",
        "print(f'Start training at {time.strftime(\"%Y-%m-%d %H:%M:%S\", time.localtime())}')\n",
        "for epoch in range(num_epoch):\n",
        "    if early_stop:\n",
        "      print(\"Early stopping. Training halted.\")\n",
        "      break\n",
        "\n",
        "    epoch_start_time = time.time()  # 记录每个epoch开始时间\n",
        "    train_acc = 0.0\n",
        "    train_loss = 0.0\n",
        "    val_acc = 0.0\n",
        "    val_loss = 0.0\n",
        "\n",
        "    # training\n",
        "    model.train() # set the model to training mode\n",
        "    for i, data in enumerate(train_loader):\n",
        "        inputs, labels = data\n",
        "        inputs, labels = inputs.to(device), labels.to(device)\n",
        "        optimizer.zero_grad()\n",
        "        outputs = model(inputs)\n",
        "        batch_loss = criterion(outputs, labels)\n",
        "        _, train_pred = torch.max(outputs, 1) # get the index of the class with the highest probability\n",
        "        batch_loss.backward()\n",
        "        optimizer.step()\n",
        "\n",
        "        train_acc += (train_pred.cpu() == labels.cpu()).sum().item()\n",
        "        train_loss += batch_loss.item()\n",
        "\n",
        "    # validation\n",
        "    if len(val_set) > 0:\n",
        "        model.eval() # set the model to evaluation mode\n",
        "        with torch.no_grad():\n",
        "            for i, data in enumerate(val_loader):\n",
        "                inputs, labels = data\n",
        "                inputs, labels = inputs.to(device), labels.to(device)\n",
        "                outputs = model(inputs)\n",
        "                batch_loss = criterion(outputs, labels)\n",
        "                _, val_pred = torch.max(outputs, 1)\n",
        "\n",
        "                val_acc += (val_pred.cpu() == labels.cpu()).sum().item() # get the index of the class with the highest probability\n",
        "                val_loss += batch_loss.item()\n",
        "\n",
        "            print('[{:03d}/{:03d}] Train Acc: {:3.6f} Loss: {:3.6f} | Val Acc: {:3.6f} loss: {:3.6f}'.format(\n",
        "                epoch + 1, num_epoch, train_acc/len(train_set), train_loss/len(train_loader), val_acc/len(val_set), val_loss/len(val_loader)\n",
        "            ))\n",
        "\n",
        "            # if the model improves, save a checkpoint at this epoch\n",
        "            if val_acc > best_acc:\n",
        "                best_acc = val_acc\n",
        "                torch.save(model.state_dict(), model_path)\n",
        "                print('saving model with acc {:.3f}'.format(best_acc/len(val_set)))\n",
        "                epochs_no_improve = 0\n",
        "            else:\n",
        "                epochs_no_improve += 1\n",
        "                if epochs_no_improve >= patience:\n",
        "                    early_stop = True\n",
        "                    break\n",
        "    else:\n",
        "        print('[{:03d}/{:03d}] Train Acc: {:3.6f} Loss: {:3.6f}'.format(\n",
        "            epoch + 1, num_epoch, train_acc/len(train_set), train_loss/len(train_loader)\n",
        "        ))\n",
        "    epoch_duration = time.time() - epoch_start_time\n",
        "    print(f'Epoch duration: {epoch_duration:.2f}s, current time: {time.strftime(\"%H:%M:%S\", time.localtime())}.')\n",
        "\n",
        "# if not validating, save the last epoch\n",
        "if len(val_set) == 0:\n",
        "    torch.save(model.state_dict(), model_path)\n",
        "    print('saving model at last epoch')\n",
        "\n",
        "total_duration = time.time() - start_time  # 计算总耗时\n",
        "print(f'Total execution time: {total_duration:.2f}s')"
      ],
      "execution_count": 21,
      "outputs": [
        {
          "output_type": "stream",
          "name": "stdout",
          "text": [
            "Start training at 2025-10-17 03:23:59\n",
            "[001/030] Train Acc: 0.559068 Loss: 1.521647 | Val Acc: 0.677646 loss: 1.039728\n",
            "saving model with acc 0.678\n",
            "Epoch duration: 74.44s, current time: 03:25:14.\n",
            "[002/030] Train Acc: 0.632215 Loss: 1.196073 | Val Acc: 0.699504 loss: 0.944732\n",
            "saving model with acc 0.700\n",
            "Epoch duration: 73.54s, current time: 03:26:27.\n",
            "[003/030] Train Acc: 0.653516 Loss: 1.112771 | Val Acc: 0.708700 loss: 0.904997\n",
            "saving model with acc 0.709\n",
            "Epoch duration: 73.53s, current time: 03:27:41.\n",
            "[004/030] Train Acc: 0.667926 Loss: 1.058802 | Val Acc: 0.718774 loss: 0.867742\n",
            "saving model with acc 0.719\n",
            "Epoch duration: 74.09s, current time: 03:28:55.\n",
            "[005/030] Train Acc: 0.677909 Loss: 1.019822 | Val Acc: 0.723693 loss: 0.847926\n",
            "saving model with acc 0.724\n",
            "Epoch duration: 73.33s, current time: 03:30:08.\n",
            "[006/030] Train Acc: 0.687694 Loss: 0.986305 | Val Acc: 0.728417 loss: 0.829267\n",
            "saving model with acc 0.728\n",
            "Epoch duration: 73.44s, current time: 03:31:22.\n",
            "[007/030] Train Acc: 0.694188 Loss: 0.958441 | Val Acc: 0.733283 loss: 0.816373\n",
            "saving model with acc 0.733\n",
            "Epoch duration: 74.06s, current time: 03:32:36.\n",
            "[008/030] Train Acc: 0.700955 Loss: 0.936248 | Val Acc: 0.734901 loss: 0.807175\n",
            "saving model with acc 0.735\n",
            "Epoch duration: 74.83s, current time: 03:33:50.\n",
            "[009/030] Train Acc: 0.706186 Loss: 0.916122 | Val Acc: 0.736425 loss: 0.796852\n",
            "saving model with acc 0.736\n",
            "Epoch duration: 73.62s, current time: 03:35:04.\n",
            "[010/030] Train Acc: 0.710995 Loss: 0.896916 | Val Acc: 0.739364 loss: 0.792627\n",
            "saving model with acc 0.739\n",
            "Epoch duration: 73.39s, current time: 03:36:17.\n",
            "[011/030] Train Acc: 0.716033 Loss: 0.879517 | Val Acc: 0.741385 loss: 0.783556\n",
            "saving model with acc 0.741\n",
            "Epoch duration: 73.02s, current time: 03:37:30.\n",
            "[012/030] Train Acc: 0.719990 Loss: 0.864455 | Val Acc: 0.741681 loss: 0.781742\n",
            "saving model with acc 0.742\n",
            "Epoch duration: 73.20s, current time: 03:38:44.\n",
            "[013/030] Train Acc: 0.724485 Loss: 0.850449 | Val Acc: 0.743454 loss: 0.774272\n",
            "saving model with acc 0.743\n",
            "Epoch duration: 73.87s, current time: 03:39:58.\n",
            "[014/030] Train Acc: 0.727610 Loss: 0.835851 | Val Acc: 0.745917 loss: 0.768942\n",
            "saving model with acc 0.746\n",
            "Epoch duration: 73.04s, current time: 03:41:11.\n",
            "[015/030] Train Acc: 0.731395 Loss: 0.822667 | Val Acc: 0.744218 loss: 0.772862\n",
            "Epoch duration: 73.15s, current time: 03:42:24.\n",
            "[016/030] Train Acc: 0.734525 Loss: 0.812380 | Val Acc: 0.744568 loss: 0.768267\n",
            "Epoch duration: 72.99s, current time: 03:43:37.\n",
            "[017/030] Train Acc: 0.738166 Loss: 0.800800 | Val Acc: 0.745934 loss: 0.768570\n",
            "saving model with acc 0.746\n",
            "Epoch duration: 73.20s, current time: 03:44:50.\n",
            "[018/030] Train Acc: 0.740741 Loss: 0.790187 | Val Acc: 0.748072 loss: 0.765579\n",
            "saving model with acc 0.748\n",
            "Epoch duration: 73.58s, current time: 03:46:04.\n",
            "[019/030] Train Acc: 0.743855 Loss: 0.779069 | Val Acc: 0.748901 loss: 0.762948\n",
            "saving model with acc 0.749\n",
            "Epoch duration: 73.08s, current time: 03:47:17.\n",
            "[020/030] Train Acc: 0.746260 Loss: 0.770069 | Val Acc: 0.749861 loss: 0.763052\n",
            "saving model with acc 0.750\n",
            "Epoch duration: 72.44s, current time: 03:48:29.\n",
            "[021/030] Train Acc: 0.748930 Loss: 0.761283 | Val Acc: 0.749763 loss: 0.758260\n",
            "Epoch duration: 72.32s, current time: 03:49:41.\n",
            "[022/030] Train Acc: 0.751518 Loss: 0.752440 | Val Acc: 0.752495 loss: 0.752897\n",
            "saving model with acc 0.752\n",
            "Epoch duration: 72.28s, current time: 03:50:54.\n",
            "[023/030] Train Acc: 0.753946 Loss: 0.742523 | Val Acc: 0.751292 loss: 0.758126\n",
            "Epoch duration: 72.69s, current time: 03:52:06.\n",
            "[024/030] Train Acc: 0.756202 Loss: 0.735768 | Val Acc: 0.750958 loss: 0.756517\n",
            "Epoch duration: 72.17s, current time: 03:53:18.\n",
            "[025/030] Train Acc: 0.758188 Loss: 0.727975 | Val Acc: 0.750889 loss: 0.760972\n",
            "Epoch duration: 72.07s, current time: 03:54:31.\n",
            "[026/030] Train Acc: 0.760492 Loss: 0.719806 | Val Acc: 0.750930 loss: 0.757813\n",
            "Epoch duration: 71.92s, current time: 03:55:42.\n",
            "[027/030] Train Acc: 0.762737 Loss: 0.713080 | Val Acc: 0.750284 loss: 0.763381\n"
          ]
        },
        {
          "output_type": "error",
          "ename": "NameError",
          "evalue": "name 'start_time' is not defined",
          "traceback": [
            "\u001b[0;31m---------------------------------------------------------------------------\u001b[0m",
            "\u001b[0;31mNameError\u001b[0m                                 Traceback (most recent call last)",
            "\u001b[0;32m/tmp/ipython-input-3889704183.py\u001b[0m in \u001b[0;36m<cell line: 0>\u001b[0;34m()\u001b[0m\n\u001b[1;32m     75\u001b[0m     \u001b[0mprint\u001b[0m\u001b[0;34m(\u001b[0m\u001b[0;34m'saving model at last epoch'\u001b[0m\u001b[0;34m)\u001b[0m\u001b[0;34m\u001b[0m\u001b[0;34m\u001b[0m\u001b[0m\n\u001b[1;32m     76\u001b[0m \u001b[0;34m\u001b[0m\u001b[0m\n\u001b[0;32m---> 77\u001b[0;31m \u001b[0mtotal_duration\u001b[0m \u001b[0;34m=\u001b[0m \u001b[0mtime\u001b[0m\u001b[0;34m.\u001b[0m\u001b[0mtime\u001b[0m\u001b[0;34m(\u001b[0m\u001b[0;34m)\u001b[0m \u001b[0;34m-\u001b[0m \u001b[0mstart_time\u001b[0m  \u001b[0;31m# 计算总耗时\u001b[0m\u001b[0;34m\u001b[0m\u001b[0;34m\u001b[0m\u001b[0m\n\u001b[0m\u001b[1;32m     78\u001b[0m \u001b[0mprint\u001b[0m\u001b[0;34m(\u001b[0m\u001b[0;34mf'Total execution time: {total_duration:.2f}s'\u001b[0m\u001b[0;34m)\u001b[0m\u001b[0;34m\u001b[0m\u001b[0;34m\u001b[0m\u001b[0m\n",
            "\u001b[0;31mNameError\u001b[0m: name 'start_time' is not defined"
          ]
        }
      ]
    },
    {
      "cell_type": "markdown",
      "metadata": {
        "id": "1Hi7jTn3PX-m"
      },
      "source": [
        "## Testing"
      ]
    },
    {
      "cell_type": "markdown",
      "metadata": {
        "id": "NfUECMFCn5VG"
      },
      "source": [
        "Create a testing dataset, and load model from the saved checkpoint."
      ]
    },
    {
      "cell_type": "code",
      "metadata": {
        "id": "1PKjtAScPWtr",
        "colab": {
          "base_uri": "https://localhost:8080/"
        },
        "outputId": "a7f6b8bf-9bac-4e5f-9c29-8237938c69b4"
      },
      "source": [
        "# create testing dataset\n",
        "test_set = TIMITDataset(test, None)\n",
        "test_loader = DataLoader(test_set, batch_size=BATCH_SIZE, shuffle=False)\n",
        "\n",
        "# create model and load weights from checkpoint\n",
        "model = Classifier().to(device)\n",
        "model.load_state_dict(torch.load(model_path))"
      ],
      "execution_count": 22,
      "outputs": [
        {
          "output_type": "execute_result",
          "data": {
            "text/plain": [
              "<All keys matched successfully>"
            ]
          },
          "metadata": {},
          "execution_count": 22
        }
      ]
    },
    {
      "cell_type": "markdown",
      "metadata": {
        "id": "940TtCCdoYd0"
      },
      "source": [
        "Make prediction."
      ]
    },
    {
      "cell_type": "code",
      "metadata": {
        "id": "84HU5GGjPqR0"
      },
      "source": [
        "predict = []\n",
        "model.eval() # set the model to evaluation mode\n",
        "with torch.no_grad():\n",
        "    for i, data in enumerate(test_loader):\n",
        "        inputs = data\n",
        "        inputs = inputs.to(device)\n",
        "        outputs = model(inputs)\n",
        "        _, test_pred = torch.max(outputs, 1) # get the index of the class with the highest probability\n",
        "\n",
        "        for y in test_pred.cpu().numpy():\n",
        "            predict.append(y)"
      ],
      "execution_count": 23,
      "outputs": []
    },
    {
      "cell_type": "markdown",
      "metadata": {
        "id": "AWDf_C-omElb"
      },
      "source": [
        "Write prediction to a CSV file.\n",
        "\n",
        "After finish running this block, download the file `prediction.csv` from the files section on the left-hand side and submit it to Kaggle."
      ]
    },
    {
      "cell_type": "code",
      "metadata": {
        "id": "GuljYSPHcZir"
      },
      "source": [
        "with open('prediction.csv', 'w') as f:\n",
        "    f.write('Id,Class\\n')\n",
        "    for i, y in enumerate(predict):\n",
        "        f.write('{},{}\\n'.format(i, y))"
      ],
      "execution_count": 24,
      "outputs": []
    }
  ]
}